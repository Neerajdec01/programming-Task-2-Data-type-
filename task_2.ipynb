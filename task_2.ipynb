{
  "nbformat": 4,
  "nbformat_minor": 0,
  "metadata": {
    "colab": {
      "provenance": []
    },
    "kernelspec": {
      "name": "python3",
      "display_name": "Python 3"
    },
    "language_info": {
      "name": "python"
    }
  },
  "cells": [
    {
      "cell_type": "code",
      "execution_count": null,
      "metadata": {
        "colab": {
          "base_uri": "https://localhost:8080/"
        },
        "id": "v06A1tTv2mkA",
        "outputId": "092c5989-3e70-407f-8ea9-1ca39cac9a9e"
      },
      "outputs": [
        {
          "output_type": "stream",
          "name": "stdout",
          "text": [
            "1\n",
            "1\n",
            "1\n",
            "2\n",
            "[[0, 0, 0], [0, 0, 1], [0, 1, 0], [1, 0, 0], [1, 1, 1]]\n"
          ]
        }
      ],
      "source": [
        "#1st problem\n",
        "\n",
        "if __name__ == '__main__':\n",
        "    x = int(input())\n",
        "    y = int(input())\n",
        "    z = int(input())\n",
        "    n = int(input())\n",
        "    print(list([i,j,k] for i in range(x+1) for j in range(y+1) for k in range(z+1)  if i+j+k !=n))"
      ]
    },
    {
      "cell_type": "code",
      "source": [
        "#2nd problem\n",
        "\n",
        "Result = []\n",
        "scorelist = []\n",
        "\n",
        "if __name__ == '__main__':\n",
        "    for _ in range(int(input())):\n",
        "        name = input()\n",
        "        score = float(input())\n",
        "        Result+=[[name,score]]\n",
        "        scorelist+=[score]\n",
        "    b=sorted(list(set(scorelist)))[1] \n",
        "    for a,c in sorted(Result):\n",
        "        if c==b:\n",
        "            print(a)"
      ],
      "metadata": {
        "id": "trZWZmJt3DUY",
        "colab": {
          "base_uri": "https://localhost:8080/"
        },
        "outputId": "315fae9c-dba6-4e57-eaf5-85ad67326262"
      },
      "execution_count": null,
      "outputs": [
        {
          "output_type": "stream",
          "name": "stdout",
          "text": [
            "5\n",
            "harry\n",
            "37.21\n",
            "berry\n",
            "37.21\n",
            "tina\n",
            "37.2\n",
            "akriti\n",
            "41\n",
            "harsh\n",
            "39\n",
            "berry\n",
            "harry\n"
          ]
        }
      ]
    },
    {
      "cell_type": "code",
      "source": [
        "#3rd problem\n",
        "\n",
        "if __name__ == '__main__':\n",
        "    n = int(input())\n",
        "    student_marks = {}\n",
        "    for _ in range(n):\n",
        "        name, *line = input().split()\n",
        "        scores = list(map(float, line))\n",
        "        student_marks[name] = scores\n",
        "    query_name = input()\n",
        "    output = list(student_marks[query_name])    \n",
        "per = sum(output)/len(output);\n",
        "print(\"%.2f\" % per);"
      ],
      "metadata": {
        "colab": {
          "base_uri": "https://localhost:8080/"
        },
        "id": "I8u_fC3P7bJN",
        "outputId": "f143dba7-72d7-44f3-81a4-2bdc63c3938e"
      },
      "execution_count": null,
      "outputs": [
        {
          "output_type": "stream",
          "name": "stdout",
          "text": [
            "3\n",
            "krishna 67 68 69\n",
            "arjun 70 98 63\n",
            "malika 52 56 60\n",
            "malika\n",
            "56.00\n"
          ]
        }
      ]
    },
    {
      "cell_type": "code",
      "source": [
        "# 4th problem\n",
        "\n",
        "if __name__ == '__main__':\n",
        "    N = int(input())\n",
        "    lst = []\n",
        "    for _ in range(N):\n",
        "        cmd, *values = input().split()\n",
        "        values = tuple(map(int, values))\n",
        "        if cmd == \"print\":\n",
        "            s = f\"{cmd}(lst)\"\n",
        "        else:\n",
        "            s = f\"lst.{cmd}{values}\"\n",
        "        eval(s)"
      ],
      "metadata": {
        "colab": {
          "base_uri": "https://localhost:8080/"
        },
        "id": "cBvtXdse704v",
        "outputId": "14c8e847-02bf-4e7e-9c10-59a5eee7e6b9"
      },
      "execution_count": null,
      "outputs": [
        {
          "output_type": "stream",
          "name": "stdout",
          "text": [
            "12\n",
            "insert 0 5\n",
            "insert 1 10\n",
            "insert 0 6\n",
            "print\n",
            "[6, 5, 10]\n",
            "remove 6\n",
            "append 9\n",
            "append 1\n",
            "sort\n",
            "print\n",
            "[1, 5, 9, 10]\n",
            "pop\n",
            "reverse\n",
            "print\n",
            "[9, 5, 1]\n"
          ]
        }
      ]
    },
    {
      "cell_type": "code",
      "source": [
        "#5th problem\n",
        "\n",
        "if __name__ == '__main__':\n",
        "    n = int(input())\n",
        "    integer_list = map(int, input().split())\n",
        "    t = tuple(integer_list)\n",
        "    print(hash(t));"
      ],
      "metadata": {
        "colab": {
          "base_uri": "https://localhost:8080/"
        },
        "id": "s0Pv7HqP9ZRr",
        "outputId": "d8a891a4-058e-40e6-ecf6-6b114b96660c"
      },
      "execution_count": null,
      "outputs": [
        {
          "output_type": "stream",
          "name": "stdout",
          "text": [
            "2\n",
            "1 2\n",
            "-3550055125485641917\n"
          ]
        }
      ]
    },
    {
      "cell_type": "code",
      "source": [
        "# 6th problem\n",
        "\n",
        "def average(array):\n",
        "     my_set = set(array)\n",
        "     avg = sum(my_set)/len(my_set)\n",
        "    \n",
        "     return (avg)\n",
        "\n",
        "if __name__ == '__main__':\n",
        "    n = int(input())\n",
        "    arr = list(map(int, input().split()))\n",
        "    result = average(arr)\n",
        "    print(result)"
      ],
      "metadata": {
        "colab": {
          "base_uri": "https://localhost:8080/"
        },
        "id": "GYCGYxW9AKYr",
        "outputId": "96d58671-d13c-44ac-eb78-824c339f65a5"
      },
      "execution_count": null,
      "outputs": [
        {
          "output_type": "stream",
          "name": "stdout",
          "text": [
            "10\n",
            "161 182 161 154 176 170 167 171 170 174\n",
            "169.375\n"
          ]
        }
      ]
    },
    {
      "cell_type": "code",
      "source": [
        "# 7th problem\n",
        "\n",
        "n, m = input().split()\n",
        "\n",
        "sc_ar = input().split()\n",
        "\n",
        "A = set(input().split())\n",
        "B = set(input().split())\n",
        "print(sum([(i in A) - (i in B) for i in sc_ar]))\n"
      ],
      "metadata": {
        "colab": {
          "base_uri": "https://localhost:8080/"
        },
        "id": "pUuvQhlIWn6K",
        "outputId": "fce9761c-87a2-4047-d304-87ac6a7de111"
      },
      "execution_count": 1,
      "outputs": [
        {
          "output_type": "stream",
          "name": "stdout",
          "text": [
            "3 2\n",
            "1 5 3\n",
            "3 1\n",
            "5 7\n",
            "1\n"
          ]
        }
      ]
    },
    {
      "cell_type": "code",
      "source": [
        "# 8th problem\n",
        "\n",
        "a,b = [set(input().split()) for _ in range(4)][1::2]\n",
        "print('\\n'.join(sorted(a^b, key=int)))\n"
      ],
      "metadata": {
        "colab": {
          "base_uri": "https://localhost:8080/"
        },
        "id": "PNvTaHxDXQll",
        "outputId": "f2f002bf-0271-439e-db2a-aa66a124dedc"
      },
      "execution_count": 2,
      "outputs": [
        {
          "output_type": "stream",
          "name": "stdout",
          "text": [
            "4\n",
            "2 4 5 9\n",
            "4 \n",
            "2 4 11 12\n",
            "5\n",
            "9\n",
            "11\n",
            "12\n"
          ]
        }
      ]
    },
    {
      "cell_type": "code",
      "source": [
        "# 9th problem\n",
        "\n",
        "a = set()\n",
        "[a.add(input()) for _ in range(int(input()))]\n",
        "print(len(a))"
      ],
      "metadata": {
        "colab": {
          "base_uri": "https://localhost:8080/"
        },
        "id": "J4SdK8izXhQw",
        "outputId": "058bf4ab-8903-4b96-8aa3-98fbf023c941"
      },
      "execution_count": 3,
      "outputs": [
        {
          "output_type": "stream",
          "name": "stdout",
          "text": [
            "7\n",
            "uk\n",
            "china\n",
            "india\n",
            "france\n",
            "new zealand\n",
            "uk\n",
            "india\n",
            "5\n"
          ]
        }
      ]
    },
    {
      "cell_type": "code",
      "source": [
        "# 10th problem\n",
        "\n",
        "n = int(input())\n",
        "s = set(map(int, input().split()))\n",
        "\n",
        "num = int(input())\n",
        "for i in range(num):\n",
        "    ip = input().split()\n",
        "    if ip[0]==\"remove\":\n",
        "        s.remove(int(ip[1]))\n",
        "    elif ip[0]==\"discard\":\n",
        "        s.discard(int(ip[1]))\n",
        "    else :\n",
        "        s.pop()\n",
        "print(sum(list(s)))\n"
      ],
      "metadata": {
        "colab": {
          "base_uri": "https://localhost:8080/"
        },
        "id": "GjSwLLoBXkxX",
        "outputId": "d09c62b7-b803-4837-84b5-b7b677a0f6b2"
      },
      "execution_count": 9,
      "outputs": [
        {
          "output_type": "stream",
          "name": "stdout",
          "text": [
            "9\n",
            "1 2 3 4 5 6 7 8 9\n",
            "10\n",
            "pop\n",
            "remove 9\n",
            "discard 8\n",
            "discard 9\n",
            "remove 5\n",
            "pop\n",
            "discard 6\n",
            "remove 7\n",
            "pop\n",
            "discard 5\n",
            "4\n"
          ]
        }
      ]
    },
    {
      "cell_type": "code",
      "source": [
        "# 11th problem\n",
        "\n",
        "n, N = (int(input()), set(map(int, input().split())))\n",
        "b, B = (int(input()), set(map(int, input().split())))\n",
        "print(len(N.union(B)))"
      ],
      "metadata": {
        "colab": {
          "base_uri": "https://localhost:8080/"
        },
        "id": "nkYWXdZsXk9G",
        "outputId": "7e8b2609-fe95-4442-9a46-5151939b4fc4"
      },
      "execution_count": 10,
      "outputs": [
        {
          "output_type": "stream",
          "name": "stdout",
          "text": [
            "9\n",
            "1 2 3 4 5 6 7 8 9\n",
            "9\n",
            "10 1 2 3 11 21 55 6 8\n",
            "13\n"
          ]
        }
      ]
    },
    {
      "cell_type": "code",
      "source": [
        "# 12th problem\n",
        "\n",
        "num1, st1, num2, st2 = (set(input().split()) for i in range(4))\n",
        "print(len(st1.intersection(st2)))\n"
      ],
      "metadata": {
        "colab": {
          "base_uri": "https://localhost:8080/"
        },
        "id": "vDEo0eGXXlKY",
        "outputId": "aa2568e2-e09f-4a29-b2c6-752d74b0cf4e"
      },
      "execution_count": 11,
      "outputs": [
        {
          "output_type": "stream",
          "name": "stdout",
          "text": [
            "9\n",
            "1 2 3 4 5 6 7 8 9\n",
            "9\n",
            "10 1 2 3 11 21 55 6 8\n",
            "5\n"
          ]
        }
      ]
    },
    {
      "cell_type": "code",
      "source": [
        "# 13th problem\n",
        "\n",
        "num1, st1, num2, st2 = (set(input().split()) for i in range(4))\n",
        "print(len(st1.difference(st2))) "
      ],
      "metadata": {
        "colab": {
          "base_uri": "https://localhost:8080/"
        },
        "id": "e-CCdiNdXlW6",
        "outputId": "008d4797-e7f0-4c0a-fc3b-2747f098e23f"
      },
      "execution_count": 12,
      "outputs": [
        {
          "output_type": "stream",
          "name": "stdout",
          "text": [
            "9\n",
            "1 2 3 4 5 6 7 8 9\n",
            "9\n",
            "10 1 2 3 11 21 55 6 8\n",
            "4\n"
          ]
        }
      ]
    },
    {
      "cell_type": "code",
      "source": [
        "# 14th problem\n",
        "\n",
        "num1, st1, num2, st2 = (set(input().split()) for i in range(4))\n",
        "print(len(st1.symmetric_difference(st2)))"
      ],
      "metadata": {
        "colab": {
          "base_uri": "https://localhost:8080/"
        },
        "id": "TK8CZgzBXlkM",
        "outputId": "a7e20eaa-de7c-428c-f650-4a7996003c2a"
      },
      "execution_count": 13,
      "outputs": [
        {
          "output_type": "stream",
          "name": "stdout",
          "text": [
            "9\n",
            "1 2 3 4 5 6 7 8 9\n",
            "9\n",
            "10 1 2 3 11 21 55 6 8\n",
            "8\n"
          ]
        }
      ]
    },
    {
      "cell_type": "code",
      "source": [
        "# 15th problem\n",
        "\n",
        "if __name__ == '__main__':\n",
        "    (_, A) = (int(input()),set(map(int, input().split())))\n",
        "    B = int(input())\n",
        "    for _ in range(B):\n",
        "        (command, newSet) = (input().split()[0],set(map(int, input().split())))\n",
        "        getattr(A, command)(newSet)\n",
        "\n",
        "    print (sum(A))\n"
      ],
      "metadata": {
        "colab": {
          "base_uri": "https://localhost:8080/"
        },
        "id": "P3Fng--XXlx8",
        "outputId": "8b4ffc06-f57b-45c9-9026-6acda464c9e2"
      },
      "execution_count": 14,
      "outputs": [
        {
          "output_type": "stream",
          "name": "stdout",
          "text": [
            "16\n",
            "1 2 3 4 5 6 7 8 9 10 11 12 13 14 24 52\n",
            "4\n",
            "intersection_update 10\n",
            "2 3 5 6 8 9 1 4 7 11\n",
            "update 2\n",
            "55 66\n",
            "symmetric_difference_update 5\n",
            "22 7 35 62 58\n",
            "difference_update 7\n",
            "11 22 35 55 58 62 66\n",
            "38\n"
          ]
        }
      ]
    },
    {
      "cell_type": "code",
      "source": [
        "# 16th problem\n",
        "\n",
        "k,arr = int(input()),list(map(int, input().split()))\n",
        "\n",
        "myset = set(arr)\n",
        "\n",
        "print(((sum(myset)*k)-(sum(arr)))//(k-1))"
      ],
      "metadata": {
        "colab": {
          "base_uri": "https://localhost:8080/"
        },
        "id": "dbwhdblCXl_s",
        "outputId": "7b43f9ea-e588-4daa-b6ab-a897a5585b91"
      },
      "execution_count": 16,
      "outputs": [
        {
          "output_type": "stream",
          "name": "stdout",
          "text": [
            "5\n",
            "4291 240 4231 99 2727 1566 110 3166 4046 752 4236 414 926 1521 3322 1112 497 888 1280 3631 524 3999 461 4552 1742 2790 3220 1608 547 2897 1006 3551 2881 1753 1785 796 2793 4103 1668 520 1454 767 1406 1699 2155 3401 2920 3169 298 1969 774 2566 546 3417 2035 1376 3007 870 3767 241 767 674 1259 3838 77 991 2639 2699 1500 4478 2706 3664 3576 1079 842 1359 1034 372 3824 1662 1177 2072 4269 3203 2252 192 1923 2471 266 4161 2899 2629 1029 2077 1253 275 1552 1835 3863 2628 108 85 1420 4183 2457 2611 4503 3388 1727 3840 2668 3596 373 807 316 203 117 3455 2739 578 3827 1639 71 4377 629 956 487 2651 1127 1254 1700 1365 3964 3234 2546 562 1003 308 1531 4466 4141 1189 752 1807 1837 1878 2944 3422 1399 1605 3347 2649 198 1730 4276 3834 4577 3533 3567 3951 1968 2345 2809 1503 2299 3067 2298 2053 4321 1255 684 4444 3658 4411 3232 422 247 4169 535 4368 13 2183 2635 621 4046 2174 2430 2938 4444 181 4131 1403 1479 2149 1931 46 4237 347 3759 228 2820 332 3083 3387 356 3421 4343 2198 923 1294 2483 2799 959 677 2994 4585 2870 13\n",
            "449133\n"
          ]
        }
      ]
    },
    {
      "cell_type": "code",
      "source": [
        "# 17th problem\n",
        "\n",
        "for _ in range(int(input())):\n",
        "    x, a, z, b = input(), set(input().split()), input(), set(input().split())\n",
        "    print(a.issubset(b))1"
      ],
      "metadata": {
        "colab": {
          "base_uri": "https://localhost:8080/"
        },
        "id": "LlaEJAw2caM-",
        "outputId": "bdfa6837-d130-4ba2-d354-93ed3e1efef9"
      },
      "execution_count": 1,
      "outputs": [
        {
          "output_type": "stream",
          "name": "stdout",
          "text": [
            "3\n",
            "5\n",
            " 2 3 5 6\n",
            "9\n",
            "9 8 5 6 3 2 1 4 7\n",
            "True\n",
            "1\n",
            "2\n",
            "5\n",
            "3 6 5 4 1\n",
            "False\n",
            "7\n",
            "1 2 3 5 6 8 9\n",
            "3\n",
            "9 8 2\n",
            "False\n"
          ]
        }
      ]
    },
    {
      "cell_type": "code",
      "source": [
        "# 18th problem\n",
        "\n",
        "set_A = set(map(int, input().split()))\n",
        "result = True\n",
        "for _ in range(int(input())):\n",
        "    if set_A.issuperset(set(map(int, input().split()))) is not True:\n",
        "        result = False\n",
        "        break\n",
        "print(result)"
      ],
      "metadata": {
        "colab": {
          "base_uri": "https://localhost:8080/"
        },
        "id": "k7Mv99qxcazI",
        "outputId": "d1e6e8de-5e09-4975-c227-9db98f8478fd"
      },
      "execution_count": 2,
      "outputs": [
        {
          "output_type": "stream",
          "name": "stdout",
          "text": [
            "1 2 3 4 5 6 7 8 9 10 11 12 23 45 84 78\n",
            "2\n",
            "1 2 3 4 5\n",
            "100 11 12\n",
            "False\n"
          ]
        }
      ]
    }
  ]
}